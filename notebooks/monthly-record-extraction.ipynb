{
 "cells": [
  {
   "cell_type": "code",
   "execution_count": null,
   "metadata": {},
   "outputs": [],
   "source": [
    "import numpy as np\n",
    "import pandas as pd\n",
    "\n",
    "import os\n",
    "import pdfplumber\n",
    "import sys\n",
    "\n",
    "from dotenv import load_dotenv, find_dotenv\n",
    "\n",
    "# environment settings\n",
    "load_dotenv(find_dotenv())\n",
    "ROOT_DIR = os.path.dirname(find_dotenv())\n",
    "sys.path.append(ROOT_DIR)\n",
    "\n",
    "# pandas display settings\n",
    "pd.set_option('display.max_columns', 50)\n",
    "pd.set_option('display.max_rows', 100)"
   ]
  },
  {
   "cell_type": "code",
   "execution_count": null,
   "metadata": {},
   "outputs": [],
   "source": [
    "# pdf variables\n",
    "pdf_name = 'monthly-short'\n",
    "pdf_path = f'{ROOT_DIR}/data/{pdf_name}.pdf'\n",
    "\n",
    "# csv variables\n",
    "csv_path = f'{ROOT_DIR}/data/{pdf_name}.csv'\n",
    "csv_headers = ['symbol', 'date', 'side', 'quantity', 'price', 'commission', 'fees']"
   ]
  },
  {
   "cell_type": "code",
   "execution_count": null,
   "metadata": {},
   "outputs": [],
   "source": [
    "pdf = pdfplumber.open(pdf_path)"
   ]
  },
  {
   "cell_type": "code",
   "execution_count": null,
   "metadata": {},
   "outputs": [],
   "source": [
    "# find page where 'TRADE RECORDS' table begins\n",
    "for page in pdf.pages:\n",
    "    if 'TRADE RECORDS' in page.extract_text():\n",
    "        start_page = page.page_number - 1\n",
    "        print(start_page)"
   ]
  },
  {
   "cell_type": "code",
   "execution_count": null,
   "metadata": {},
   "outputs": [],
   "source": [
    "# extract table from start page of 'TRADE RECORDS' until the next table begins\n",
    "for i in range(start_page, len(pdf.pages) - 1):\n",
    "    if len(pdf.pages[i].find_tables()) == 1:\n",
    "        print(pdf.pages[i].extract_table())\n",
    "\n",
    "    else:\n",
    "        table = pdf.pages[i].find_tables()\n",
    "        print(table[0].extract())\n",
    "        break"
   ]
  },
  {
   "cell_type": "code",
   "execution_count": null,
   "metadata": {},
   "outputs": [],
   "source": [
    "tb = pdf.pages[1].extract_table()"
   ]
  },
  {
   "cell_type": "code",
   "execution_count": null,
   "metadata": {},
   "outputs": [],
   "source": [
    "df = pd.DataFrame(tb[1:], columns=tb[0])\n",
    "df.head(10)"
   ]
  },
  {
   "cell_type": "code",
   "execution_count": null,
   "metadata": {},
   "outputs": [],
   "source": [
    "df.loc[:, 'date'] = df['Trade Date'] + ' ' + df['Time'] + '00' # concatenate date and time\n",
    "df.loc[:, 'symbol'] = df['Symbol & Name'].str.extract('(^.+(?=\\\\n))') # extract symbol\n",
    "df['commission'] = 0.0 # fill 'commission'\n",
    "\n",
    "# select columns to keep and rename\n",
    "df = df[['symbol', 'date', 'Buy/Sell', 'Quantity', 'Traded Price', 'commission', 'Comm/Fee/Tax']]\n",
    "df = df.rename(columns = {'Buy/Sell': 'side', \n",
    "                          'Quantity': 'quantity', \n",
    "                          'Traded Price': 'price',\n",
    "                          'Comm/Fee/Tax': 'fees'})\n",
    "\n",
    "df.head(10)"
   ]
  },
  {
   "cell_type": "code",
   "execution_count": null,
   "metadata": {},
   "outputs": [],
   "source": [
    "# convert date to UTC with Zulu format\n",
    "df['date'] = df['date'].str.replace('GMT', '')\n",
    "df.loc[:, 'date'] = pd.to_datetime(df['date'], format = '%d/%m/%Y %H:%M:%S,%z').dt.tz_convert('UTC')\n",
    "df.loc[:, 'date'] = df.loc[:, 'date'].apply(lambda x: x.isoformat().replace('+00:00', 'Z'))\n",
    "df['date'] = np.where(df['date'] == 'NaT', None, df['date'])\n",
    "\n",
    "df.head()"
   ]
  },
  {
   "cell_type": "code",
   "execution_count": null,
   "metadata": {},
   "outputs": [],
   "source": [
    "# sort by date\n",
    "df.sort_values(by = ['date'], inplace = True)\n",
    "df.reset_index(drop = True, inplace = True)\n",
    "df"
   ]
  },
  {
   "cell_type": "code",
   "execution_count": null,
   "metadata": {},
   "outputs": [],
   "source": [
    "# save csv file\n",
    "if not os.path.exists(csv_path):\n",
    "    df.to_csv(csv_path)\n",
    "\n",
    "df.head()"
   ]
  }
 ],
 "metadata": {
  "language_info": {
   "name": "python"
  }
 },
 "nbformat": 4,
 "nbformat_minor": 2
}
