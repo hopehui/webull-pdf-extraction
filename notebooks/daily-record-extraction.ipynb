{
 "cells": [
  {
   "cell_type": "code",
   "execution_count": null,
   "metadata": {},
   "outputs": [],
   "source": [
    "import numpy as np\n",
    "import pandas as pd\n",
    "\n",
    "import os\n",
    "import pdfplumber\n",
    "import secrets\n",
    "import sys\n",
    "\n",
    "from dotenv import load_dotenv, find_dotenv\n",
    "\n",
    "# environment settings\n",
    "load_dotenv(find_dotenv())\n",
    "ROOT_DIR = os.path.dirname(find_dotenv())\n",
    "sys.path.append(ROOT_DIR)\n",
    "\n",
    "# pandas display settings\n",
    "pd.set_option('display.max_columns', 50)\n",
    "pd.set_option('display.max_rows', 100)"
   ]
  },
  {
   "cell_type": "code",
   "execution_count": null,
   "metadata": {},
   "outputs": [],
   "source": [
    "# pdf variables\n",
    "pdf_name = 'daily-long'\n",
    "pdf_path = f'{ROOT_DIR}/data/{pdf_name}.pdf'\n",
    "\n",
    "# csv variables\n",
    "csv_path = f'{ROOT_DIR}/data/{pdf_name}.csv'\n",
    "csv_headers = ['symbol', 'date', 'side', 'quantity', 'price', 'commission', 'fees']"
   ]
  },
  {
   "cell_type": "code",
   "execution_count": null,
   "metadata": {},
   "outputs": [],
   "source": [
    "pdf = pdfplumber.open(pdf_path)\n",
    "\n",
    "# first page\n",
    "page = pdf.pages[0]\n",
    "tb = page.extract_table()\n",
    "\n",
    "# second page\n",
    "page2 = pdf.pages[1]\n",
    "tb2 = page2.extract_table()"
   ]
  },
  {
   "cell_type": "code",
   "execution_count": null,
   "metadata": {},
   "outputs": [],
   "source": [
    "for page in pdf.pages:\n",
    "    print(page.extract_table())"
   ]
  },
  {
   "cell_type": "code",
   "execution_count": null,
   "metadata": {},
   "outputs": [],
   "source": [
    "# first page of table\n",
    "# df = pd.DataFrame(tb[1:], columns=tb[0])\n",
    "# df.head(10)\n",
    "\n",
    "# second page of table loaded with headers from first page of table\n",
    "df = pd.DataFrame(tb2, columns = tb[0])\n",
    "df.head(10)"
   ]
  },
  {
   "cell_type": "code",
   "execution_count": null,
   "metadata": {},
   "outputs": [],
   "source": [
    "# clean up initial pdf extraction\n",
    "df = df.rename(columns = {df.columns[-4]:'value'})\n",
    "df.loc[df['Comm/Fee/Tax'] == '0.00', 'value'] = 0.00\n",
    "\n",
    "# concatenate date and time \n",
    "df.loc[:, 'date'] = df['Trade Date'] + ' ' + df['Time'] + '00'\n",
    "\n",
    "# select columns to keep and rename\n",
    "df = df[['Symbol & Name', 'date', 'Buy/Sell', 'Quantity', 'Traded Price', 'Comm/Fee/Tax', 'value']]\n",
    "df = df.rename(columns = {'Symbol & Name': 'symbol', \n",
    "                          'Buy/Sell': 'side', \n",
    "                          'Quantity': 'quantity', \n",
    "                          'Traded Price': 'price'})\n",
    "\n",
    "df.head()"
   ]
  },
  {
   "cell_type": "code",
   "execution_count": null,
   "metadata": {},
   "outputs": [],
   "source": [
    "# extract symbol\n",
    "df.loc[:, 'symbol'] = df['symbol'].str.extract('(^.+(?=\\\\n))')\n",
    "df.head()"
   ]
  },
  {
   "cell_type": "code",
   "execution_count": null,
   "metadata": {},
   "outputs": [],
   "source": [
    "# convert date to UTC with Zulu format\n",
    "df['date'] = df['date'].str.replace('GMT', '')\n",
    "df.loc[:, 'date'] = pd.to_datetime(df['date'], format = '%d/%m/%Y %H:%M:%S,%z').dt.tz_convert('UTC')\n",
    "df.loc[:, 'date'] = df.loc[:, 'date'].apply(lambda x: x.isoformat().replace('+00:00', 'Z'))\n",
    "df['date'] = np.where(df['date'] == 'NaT', None, df['date'])\n",
    "\n",
    "df.head()"
   ]
  },
  {
   "cell_type": "code",
   "execution_count": null,
   "metadata": {},
   "outputs": [],
   "source": [
    "# set unique ids before pivot\n",
    "df['unique_id'] = df['symbol'].apply(lambda x: secrets.token_hex(8) if pd.notna(x) else None)\n",
    "df = df[['unique_id', 'symbol', 'date', 'side', 'quantity', 'price', 'Comm/Fee/Tax', 'value']]\n",
    "df.head()"
   ]
  },
  {
   "cell_type": "code",
   "execution_count": null,
   "metadata": {},
   "outputs": [],
   "source": [
    "# forward fill in preparation for pivot\n",
    "df.iloc[:, :-2] = df.iloc[:, :-2].ffill()\n",
    "df"
   ]
  },
  {
   "cell_type": "code",
   "execution_count": null,
   "metadata": {},
   "outputs": [],
   "source": [
    "# pivot table\n",
    "df_p = df.pivot(index = df.columns[:-2].to_list(), columns = 'Comm/Fee/Tax', values = 'value').reset_index()\n",
    "df_p.columns = ['_'.join(col).strip() if isinstance(col, tuple) else col for col in df_p.columns]\n",
    "\n",
    "# replace NaNs with 0 for SEC and TAF\n",
    "df_p['SEC'] = df_p['SEC'].fillna(0)\n",
    "df_p['TAF'] = df_p['TAF'].fillna(0)\n",
    "\n",
    "# select columns to keep and rename\n",
    "df_p = df_p[['symbol', 'date', 'side', 'quantity', 'price', 'SEC', 'TAF']]\n",
    "df_p = df_p.rename(columns = {'SEC': 'commission', 'TAF': 'fees'})\n",
    "\n",
    "# sort by date\n",
    "df_p.sort_values(by = ['date'], inplace = True)\n",
    "df_p.reset_index(drop = True, inplace = True)\n",
    "\n",
    "df_p"
   ]
  },
  {
   "cell_type": "code",
   "execution_count": null,
   "metadata": {},
   "outputs": [],
   "source": [
    "# save csv file\n",
    "if not os.path.exists(csv_path):\n",
    "    df_p.to_csv(csv_path)\n",
    "\n",
    "df_p.head()"
   ]
  }
 ],
 "metadata": {
  "language_info": {
   "name": "python"
  }
 },
 "nbformat": 4,
 "nbformat_minor": 2
}
